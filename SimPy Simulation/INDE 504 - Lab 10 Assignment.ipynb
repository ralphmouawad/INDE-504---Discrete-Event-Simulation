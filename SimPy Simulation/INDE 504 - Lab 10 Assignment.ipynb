{
 "cells": [
  {
   "cell_type": "code",
   "execution_count": 1,
   "metadata": {},
   "outputs": [],
   "source": [
    "# Ralph Mouawad - ID 202204667\n",
    "# INDE 504 - Simulation - Dr. Bacel Maddah\n",
    "# Lab 10 - Simulation with SimPy"
   ]
  },
  {
   "cell_type": "code",
   "execution_count": 3,
   "metadata": {},
   "outputs": [],
   "source": [
    "import simpy\n",
    "import random"
   ]
  },
  {
   "cell_type": "code",
   "execution_count": 21,
   "metadata": {},
   "outputs": [],
   "source": [
    "# Exercise 1\n",
    "\n",
    "class VisaApplicationCenter:\n",
    "    def __init__(self, env, arrival_rate, num_employees, doc_sub_time, interview_time, payment_time, biometric_time):\n",
    "        self.env = env\n",
    "        self.arrival_rate = arrival_rate\n",
    "        self.num_employees = num_employees\n",
    "        self.doc_sub_time = doc_sub_time\n",
    "        self.interview_time = interview_time\n",
    "        self.payment_time = payment_time\n",
    "        self.biometric_time = biometric_time\n",
    "        self.applications_arrived = 0\n",
    "        self.applications_processed = 0\n",
    "        self.employees = [simpy.Resource(env) for _ in range(num_employees)]\n",
    "        self.waiting_time = 0\n",
    "\n",
    "    def process_applications(self, env): # model the visa application process\n",
    "        arrival_time = env.now\n",
    "        with self.employees[0].request() as req:\n",
    "            yield req\n",
    "            yield env.timeout(random.expovariate(1/self.doc_sub_time))\n",
    "        with self.employees[1].request() as req:\n",
    "            yield req\n",
    "            yield env.timeout(random.expovariate(1/self.interview_time)) \n",
    "        with self.employees[2].request() as req:\n",
    "            yield req\n",
    "            yield env.timeout(random.expovariate(1/self.payment_time))\n",
    "        with self.employees[3].request() as req:\n",
    "            yield req\n",
    "            yield env.timeout(random.expovariate(1/self.biometric_time))\n",
    "        self.applications_processed += 1 # one app has been processed\n",
    "        self.waiting_time += env.now - arrival_time\n",
    "    \n",
    "    def application_arrival(self, env):\n",
    "        while True:\n",
    "            interarrival_time = random.expovariate(self.arrival_rate)\n",
    "            yield env.timeout(interarrival_time)\n",
    "            self.applications_arrived +=1\n",
    "            env.process(self.process_applications(env))\n",
    "            "
   ]
  },
  {
   "cell_type": "code",
   "execution_count": 44,
   "metadata": {},
   "outputs": [],
   "source": [
    "env = simpy.Environment()\n",
    "visa_office = VisaApplicationCenter(env, arrival_rate=10, num_employees=4, doc_sub_time=1/4, interview_time=1/2, payment_time=1/10, biometric_time=1/5)\n",
    "env.process(visa_office.application_arrival(env))\n",
    "env.run(until = 8)"
   ]
  },
  {
   "cell_type": "code",
   "execution_count": 45,
   "metadata": {},
   "outputs": [
    {
     "name": "stdout",
     "output_type": "stream",
     "text": [
      "Total applications arrived: 95\n",
      "Total applications processed: 12\n",
      "Average waiting time for applications:  4.06 hours\n"
     ]
    }
   ],
   "source": [
    "average_waiting_time = visa_office.waiting_time/visa_office.applications_processed\n",
    "print(f\"Total applications arrived: {visa_office.applications_arrived}\")\n",
    "print(f\"Total applications processed: {visa_office.applications_processed}\")\n",
    "print(f\"Average waiting time for applications: {average_waiting_time: .2f} hours\")\n"
   ]
  },
  {
   "cell_type": "code",
   "execution_count": 4,
   "metadata": {},
   "outputs": [],
   "source": [
    "# Exercise 2\n",
    "\n",
    "class CoffeeShopCenter:\n",
    "    def __init__(self, env, arrival_rate, num_employees, processing_rate):\n",
    "        self.env = env\n",
    "        self.arrival_rate = arrival_rate\n",
    "        self.num_employees = num_employees\n",
    "        self.processing_rate = processing_rate\n",
    "        self.applications_arrived = 0\n",
    "        self.applications_processed = 0\n",
    "        self.waiting_time = 0\n",
    "        self.application_process = simpy.Resource(env, capacity=num_employees)\n",
    "    \n",
    "    def process_application(self, env):\n",
    "        arrival_time = self.env.now\n",
    "        with self.application_process.request() as request:\n",
    "            yield request\n",
    "            self.applications_processed +=1 \n",
    "            yield self.env.process(self.process_steps(env))\n",
    "            end_time = self.env.now\n",
    "            self.waiting_time += end_time - arrival_time\n",
    "\n",
    "    def process_steps(self, env):\n",
    "        total_processing_time = random.gammavariate(3, 1/self.processing_rate)\n",
    "        yield self.env.timeout(total_processing_time)\n",
    "\n",
    "    def application_arrival(self, env):\n",
    "        while True:\n",
    "            interarrival_time = random.expovariate(self.arrival_rate)\n",
    "            yield self.env.timeout(interarrival_time)\n",
    "            self.applications_arrived += 1\n",
    "            self.env.process(self.process_application(env))\n"
   ]
  },
  {
   "cell_type": "code",
   "execution_count": 5,
   "metadata": {},
   "outputs": [],
   "source": [
    "env = simpy.Environment()\n",
    "coffee_shop = CoffeeShopCenter(env, arrival_rate=35, num_employees=3, processing_rate=5)\n",
    "env.process(coffee_shop.application_arrival(env))\n",
    "env.run(until=8)"
   ]
  },
  {
   "cell_type": "code",
   "execution_count": 6,
   "metadata": {},
   "outputs": [
    {
     "name": "stdout",
     "output_type": "stream",
     "text": [
      "Total customers arrived: 283\n",
      "Total customers processed: 39\n",
      "Average waiting time for customers:  3.17 hours\n"
     ]
    }
   ],
   "source": [
    "total_arrival = coffee_shop.applications_arrived\n",
    "total_processed = coffee_shop.applications_processed\n",
    "average_waiting_time = coffee_shop.waiting_time/coffee_shop.applications_processed\n",
    "print(f\"Total customers arrived: {coffee_shop.applications_arrived}\")\n",
    "print(f\"Total customers processed: {coffee_shop.applications_processed}\")\n",
    "print(f\"Average waiting time for customers: {average_waiting_time: .2f} hours\")\n"
   ]
  },
  {
   "cell_type": "code",
   "execution_count": null,
   "metadata": {},
   "outputs": [],
   "source": []
  }
 ],
 "metadata": {
  "kernelspec": {
   "display_name": "Python 3",
   "language": "python",
   "name": "python3"
  },
  "language_info": {
   "codemirror_mode": {
    "name": "ipython",
    "version": 3
   },
   "file_extension": ".py",
   "mimetype": "text/x-python",
   "name": "python",
   "nbconvert_exporter": "python",
   "pygments_lexer": "ipython3",
   "version": "3.11.5"
  }
 },
 "nbformat": 4,
 "nbformat_minor": 2
}
